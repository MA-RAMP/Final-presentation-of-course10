{
  "metadata": {
    "kernelspec": {
      "name": "python",
      "display_name": "Python (Pyodide)",
      "language": "python"
    },
    "language_info": {
      "codemirror_mode": {
        "name": "python",
        "version": 3
      },
      "file_extension": ".py",
      "mimetype": "text/x-python",
      "name": "python",
      "nbconvert_exporter": "python",
      "pygments_lexer": "ipython3",
      "version": "3.8"
    }
  },
  "nbformat_minor": 4,
  "nbformat": 4,
  "cells": [
    {
      "cell_type": "markdown",
      "source": "# SpaceX Launch Records Dashboard - Summary Notebook",
      "metadata": {}
    },
    {
      "cell_type": "code",
      "source": "# Import required libraries\nimport pandas as pd\nimport dash\nfrom dash import html\nfrom dash import dcc\nfrom dash.dependencies import Input, Output\nimport plotly.express as px\n\n# Read the airline data into pandas dataframe\nspacex_df = pd.read_csv(\"spacex_launch_dash.csv\")\nmax_payload = spacex_df['Payload Mass (kg)'].max()\nmin_payload = spacex_df['Payload Mass (kg)'].min()\n\nlaunch_sites = spacex_df['Launch Site'].unique().tolist()\ndropdown_options = [{'label': 'All Sites', 'value': 'ALL'}] + [\n    {'label': site, 'value': site} for site in launch_sites\n]\n\n# Create a dash application\napp = dash.Dash(__name__)\n\n# Create an app layout\napp.layout = html.Div(children=[html.H1('SpaceX Launch Records Dashboard',\n                                        style={'textAlign': 'center', 'color': '#503D36',\n                                               'font-size': 40}),\n                                # TASK 1: Add a dropdown list to enable Launch Site selection\n                                # The default select value is for ALL sites\n                                dcc.Dropdown(id='site-dropdown',\n                                              options=dropdown_options,\n                                              value='ALL',\n                                              placeholder='Select a Launch Site here',\n                                              searchable=True\n                                              ),\n                                html.Br(),\n\n                                # TASK 2: Add a pie chart to show the total successful launches count for all sites\n                                # If a specific launch site was selected, show the Success vs. Failed counts for the site\n                                html.Div(dcc.Graph(id='success-pie-chart')),\n                                html.Br(),\n\n                                html.P(\"Payload range (Kg):\"),\n                                # TASK 3: Add a slider to select payload range\n                                dcc.RangeSlider(id='payload-slider',\n                                min=0,\n                                max=10000,\n                                step=1000,\n                                marks={0: '0', 2500: '2500', 5000: '5000', 7500: '7500', 10000: '10000'},\n                                value=[min_payload, max_payload]\n                                ),\n                                html.Br(),\n\n\n                                # TASK 4: Add a scatter chart to show the correlation between payload and launch success\n                                html.Div(dcc.Graph(id='success-payload-scatter-chart')),\n                                ])\n\n# TASK 2:\n# Add a callback function for `site-dropdown` as input, `success-pie-chart` as output\n@app.callback(\n    Output(component_id='success-pie-chart', component_property='figure'),\n    Input(component_id='site-dropdown', component_property='value')\n)\ndef update_pie_chart(selected_site):\n    if selected_site == 'ALL':\n        fig = px.pie(\n            spacex_df,\n            names='Launch Site',\n            values='class',\n            title='Total Successful Launches by Site'\n        )\n    else:\n        filtered_df = spacex_df[spacex_df['Launch Site'] == selected_site]\n        counts = filtered_df['class'].value_counts().reset_index()\n        counts.columns = ['class', 'count']\n        counts['class'] = counts['class'].replace({1: 'Success', 0: 'Failure'})\n        fig = px.pie(\n            counts,\n            names='class',\n            values='count',\n            title=f'Success vs Failure for site {selected_site}'\n        )\n    return fig\n\n# TASK 4:\n# Add a callback function for `site-dropdown` and `payload-slider` as inputs, `success-payload-scatter-chart` as output\n@app.callback(\n    Output(component_id='success-payload-scatter-chart', component_property='figure'),\n    [\n        Input(component_id='site-dropdown', component_property='value'),\n        Input(component_id='payload-slider', component_property='value')\n    ]\n)\ndef update_scatter_chart(selected_site, payload_range):\n    low, high = payload_range\n    mask = (spacex_df['Payload Mass (kg)'] >= low) & (spacex_df['Payload Mass (kg)'] <= high)\n    filtered_df = spacex_df[mask]\n\n    if selected_site == 'ALL':\n        fig = px.scatter(\n            filtered_df,\n            x='Payload Mass (kg)',\n            y='class',\n            color='Booster Version Category',\n            title='Payload vs. Launch Outcome for All Sites'\n        )\n    else:\n        filtered_df = filtered_df[filtered_df['Launch Site'] == selected_site]\n        fig = px.scatter(\n            filtered_df,\n            x='Payload Mass (kg)',\n            y='class',\n            color='Booster Version Category',\n            title=f'Payload vs. Launch Outcome for {selected_site}'\n        )\n    return fig\n\n# Run the app\nif __name__ == '__main__':\n    app.run()\n",
      "metadata": {
        "trusted": true
      },
      "outputs": [
        {
          "ename": "<class 'ModuleNotFoundError'>",
          "evalue": "No module named 'dash'",
          "traceback": [
            "\u001b[0;31m---------------------------------------------------------------------------\u001b[0m",
            "\u001b[0;31mModuleNotFoundError\u001b[0m                       Traceback (most recent call last)",
            "Cell \u001b[0;32mIn[2], line 3\u001b[0m\n\u001b[1;32m      1\u001b[0m \u001b[38;5;66;03m# Import required libraries\u001b[39;00m\n\u001b[1;32m      2\u001b[0m \u001b[38;5;28;01mimport\u001b[39;00m \u001b[38;5;21;01mpandas\u001b[39;00m \u001b[38;5;28;01mas\u001b[39;00m \u001b[38;5;21;01mpd\u001b[39;00m\n\u001b[0;32m----> 3\u001b[0m \u001b[38;5;28;01mimport\u001b[39;00m \u001b[38;5;21;01mdash\u001b[39;00m\n\u001b[1;32m      4\u001b[0m \u001b[38;5;28;01mfrom\u001b[39;00m \u001b[38;5;21;01mdash\u001b[39;00m \u001b[38;5;28;01mimport\u001b[39;00m html\n\u001b[1;32m      5\u001b[0m \u001b[38;5;28;01mfrom\u001b[39;00m \u001b[38;5;21;01mdash\u001b[39;00m \u001b[38;5;28;01mimport\u001b[39;00m dcc\n",
            "\u001b[0;31mModuleNotFoundError\u001b[0m: No module named 'dash'"
          ],
          "output_type": "error"
        }
      ],
      "execution_count": 2
    },
    {
      "cell_type": "code",
      "source": "",
      "metadata": {
        "trusted": true
      },
      "outputs": [],
      "execution_count": null
    }
  ]
}